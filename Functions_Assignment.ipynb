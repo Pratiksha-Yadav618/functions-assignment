{
  "nbformat": 4,
  "nbformat_minor": 0,
  "metadata": {
    "colab": {
      "provenance": []
    },
    "kernelspec": {
      "name": "python3",
      "display_name": "Python 3"
    },
    "language_info": {
      "name": "python"
    }
  },
  "cells": [
    {
      "cell_type": "markdown",
      "source": [
        "##Functions Assignment"
      ],
      "metadata": {
        "id": "HMiKMqdZ28Z0"
      }
    },
    {
      "cell_type": "markdown",
      "source": [
        "Theory Questions:"
      ],
      "metadata": {
        "id": "qSGBilW73S9R"
      }
    },
    {
      "cell_type": "markdown",
      "source": [
        "1.\n",
        "What is the difference between a function and a method in Python?\n",
        "\n",
        "-->\n",
        "\n",
        "Function:\n",
        "\n",
        "1.A block of reuseable code.\n",
        "\n",
        "2.Use 'def' keyword.\n",
        "\n",
        "3.Called directly with its name.\n",
        "\n",
        "4.No automatic first argument\n",
        "\n",
        "5.Example = print(\"Hello\")\n",
        "\n",
        "\n",
        "Methods:\n",
        "\n",
        "1.A function that belongs to an object/class.\n",
        "\n",
        "2.Also using def, but inside a class.\n",
        "\n",
        "3.Called on an object using dot (.) notation.\n",
        "\n",
        "4.First argument is usually self (instance).\n",
        "\n",
        "5.Example = \"hello\".upper()\n"
      ],
      "metadata": {
        "id": "eCHqTLaK3Yfb"
      }
    },
    {
      "cell_type": "markdown",
      "source": [
        "-----------------\n"
      ],
      "metadata": {
        "id": "1VOxPTYXIARH"
      }
    },
    {
      "cell_type": "markdown",
      "source": [
        "2.\n",
        "Explain the concept of function arguments and parameters in Python.\n",
        "\n",
        "--> In Python, functions allow us to reuse code by writing it once and calling it whenever needed. When we define and use functions, two important terms come into play: parameters and arguments.\n",
        "\n",
        "Parameters are the placeholders or variables listed inside the parentheses when defining a function.\n",
        "They define what kind of input the function expects to receive.\n",
        "\n",
        "Arguments are the actual values or data you pass into the function when you call it.\n",
        "The function uses these values in place of the parameters.\n",
        "\n",
        "Types of arguments:\n",
        "\n",
        "1.Positional Argument: Values are assigned to parameters based on their position.\n",
        "\n",
        "2.Keyword Argument: Arguments are passed using the parameter names.\n",
        "\n",
        "3.Default Argument:Parameters have default values if no argument is provided.\n",
        "\n",
        "4.Variable-length Arguments:\n",
        "   \n",
        " *args - Accepts any number of positional arguments as a tuple.\n",
        "\n",
        " **kwargs - Accepts any number of keyword arguments as a dictionary."
      ],
      "metadata": {
        "id": "1cZ_jqPC5yn3"
      }
    },
    {
      "cell_type": "code",
      "source": [
        "#example for parameter\n",
        "#name is the parameter\n",
        "def greet(name):\n",
        "    print(f\"Hello, {name}!\")"
      ],
      "metadata": {
        "id": "uLnKpKSh9iHI"
      },
      "execution_count": null,
      "outputs": []
    },
    {
      "cell_type": "code",
      "source": [
        "#Example for argument\n",
        "#here, Pratiksha is the argument passed to the greet function\n",
        "greet(\"Pratiksha\")"
      ],
      "metadata": {
        "id": "qVEngj5u9s2W"
      },
      "execution_count": null,
      "outputs": []
    },
    {
      "cell_type": "markdown",
      "source": [
        "-------------------\n"
      ],
      "metadata": {
        "id": "j7twc35tIDMm"
      }
    },
    {
      "cell_type": "markdown",
      "source": [
        "3.\n",
        "What are the different ways to define and call a function in Python?\n",
        "\n",
        "-->In Python, you can define and call functions in several different ways depending on your needs. Here's a breakdown:\n"
      ],
      "metadata": {
        "id": "w2Ur0zYF9abg"
      }
    },
    {
      "cell_type": "markdown",
      "source": [
        "1.Defining a function"
      ],
      "metadata": {
        "id": "RvxpI-uua96Y"
      }
    },
    {
      "cell_type": "code",
      "source": [
        " #Basic syntax\n",
        "def greet():\n",
        "  print(\"hello!\")"
      ],
      "metadata": {
        "id": "1qrTiSbn9XOl"
      },
      "execution_count": null,
      "outputs": []
    },
    {
      "cell_type": "code",
      "execution_count": null,
      "metadata": {
        "id": "n_FkvaPB2yyQ",
        "colab": {
          "base_uri": "https://localhost:8080/"
        },
        "outputId": "947aebc5-8703-4b80-e912-9e78ff51fa25"
      },
      "outputs": [
        {
          "output_type": "stream",
          "name": "stdout",
          "text": [
            "hello!\n"
          ]
        }
      ],
      "source": [
        "#calling it\n",
        "greet()"
      ]
    },
    {
      "cell_type": "markdown",
      "source": [
        "2.Function with Parameters"
      ],
      "metadata": {
        "id": "9caNJorNbNQJ"
      }
    },
    {
      "cell_type": "code",
      "source": [
        "def greet(name):\n",
        "    print(\"Hello\", name)"
      ],
      "metadata": {
        "id": "CJivoncmbUIA"
      },
      "execution_count": null,
      "outputs": []
    },
    {
      "cell_type": "code",
      "source": [
        "greet(\"Pratiksha\")"
      ],
      "metadata": {
        "colab": {
          "base_uri": "https://localhost:8080/"
        },
        "id": "BLR8DAQMbbyD",
        "outputId": "34c901ba-500a-4699-bbfb-c0075caac482"
      },
      "execution_count": null,
      "outputs": [
        {
          "output_type": "stream",
          "name": "stdout",
          "text": [
            "Hello Pratiksha\n"
          ]
        }
      ]
    },
    {
      "cell_type": "markdown",
      "source": [
        "3.Function with Default Parameter Values"
      ],
      "metadata": {
        "id": "urn9p8oGbokg"
      }
    },
    {
      "cell_type": "code",
      "source": [
        "def greet(name=\"Guest\"):\n",
        "    print(\"Hello\", name)"
      ],
      "metadata": {
        "id": "87GYzaCGbqiR"
      },
      "execution_count": null,
      "outputs": []
    },
    {
      "cell_type": "code",
      "source": [
        "greet()\n",
        "greet(\"Amit\")"
      ],
      "metadata": {
        "id": "LdSWUORVbwJJ"
      },
      "execution_count": null,
      "outputs": []
    },
    {
      "cell_type": "markdown",
      "source": [
        "4.Function with Return Value"
      ],
      "metadata": {
        "id": "akaQ49DEb-mp"
      }
    },
    {
      "cell_type": "code",
      "source": [
        "def add(a, b):\n",
        "    return a + b"
      ],
      "metadata": {
        "id": "csBvZLT0cAUf"
      },
      "execution_count": null,
      "outputs": []
    },
    {
      "cell_type": "code",
      "source": [
        "result = add(5, 3)"
      ],
      "metadata": {
        "id": "DWaasvpGcDq3"
      },
      "execution_count": null,
      "outputs": []
    },
    {
      "cell_type": "markdown",
      "source": [
        "5.Function with Arbitrary Positional Arguments (*args)\n",
        "\n",
        "6.Function with Arbitrary Keyword Arguments (**kwargs)\n",
        "\n",
        "7.Lambda Function (Anonymous Function)\n",
        "\n",
        "8.Recursive Function (Calls Itself)\n",
        "\n",
        "9.Function Inside a Function (Nested Functions)"
      ],
      "metadata": {
        "id": "B5t2P8u1cGwg"
      }
    },
    {
      "cell_type": "markdown",
      "source": [
        "--------------------\n"
      ],
      "metadata": {
        "id": "I2ngaRjRH7bQ"
      }
    },
    {
      "cell_type": "markdown",
      "source": [
        "4.What is the purpose of the 'return' statement in a Python function?\n",
        "\n",
        "-->The return statement sends a value back from a function to the place where it was called. It ends the function's execution and gives the result to the caller.\n",
        "\n",
        "Purpose of return\n",
        "\n",
        "To get output from a function.\n",
        "\n",
        "To use that output in further code (store in variable, print it, etc.).\n",
        "\n",
        "To exit a function early, optionally with a value.\n",
        "\n"
      ],
      "metadata": {
        "id": "dl-vS9NDcfaS"
      }
    },
    {
      "cell_type": "code",
      "source": [
        "def add(a, b):\n",
        "    return a + b"
      ],
      "metadata": {
        "id": "ChrExzzxd3eb"
      },
      "execution_count": null,
      "outputs": []
    },
    {
      "cell_type": "code",
      "source": [
        "result = add(5, 3)\n",
        "print(result)"
      ],
      "metadata": {
        "colab": {
          "base_uri": "https://localhost:8080/"
        },
        "id": "Eh_P4xOxd_1h",
        "outputId": "80abf54a-3339-4162-fb15-759d70225981"
      },
      "execution_count": null,
      "outputs": [
        {
          "output_type": "stream",
          "name": "stdout",
          "text": [
            "8\n"
          ]
        }
      ]
    },
    {
      "cell_type": "markdown",
      "source": [
        "----------------------------------\n"
      ],
      "metadata": {
        "id": "jzbbpLQXIHNH"
      }
    },
    {
      "cell_type": "markdown",
      "source": [
        "5.What are iterators in Python and how do they differ from iterables?\n",
        "\n",
        "-->**Iterable:**\n",
        "\n",
        "An iterable is any object you can loop through using a for loop.\n",
        "\n",
        "Examples:\n",
        "\n",
        "list, tuple, string, set, dict, etc.\n",
        "\n",
        "These have a method __iter__() that returns an iterator.\n",
        "\n",
        "**Iterator:**\n",
        "\n",
        "An iterator is an object that remembers where it is during iteration, and it gives the next item when you ask for it using next().\n",
        "\n",
        "In Short:\n",
        "\n",
        "Iterable = something you can get an iterator from.\n",
        "\n",
        "Iterator = the object that gives you one value at a time using next().\n"
      ],
      "metadata": {
        "id": "3tsLT_NtcsLS"
      }
    },
    {
      "cell_type": "code",
      "source": [
        "#example of iterable\n",
        "my_list = [1, 2, 3]\n",
        "for item in my_list:\n",
        "    print(item)  # This works because list is an iterable"
      ],
      "metadata": {
        "id": "9tAWEzKycGXh"
      },
      "execution_count": null,
      "outputs": []
    },
    {
      "cell_type": "code",
      "source": [
        "#example of iterator\n",
        "my_list = [1, 2, 3]\n",
        "my_iter = iter(my_list)  # Now it's an iterator\n",
        "\n",
        "print(next(my_iter))  # 1\n",
        "print(next(my_iter))  # 2\n",
        "print(next(my_iter))  # 3"
      ],
      "metadata": {
        "id": "oOxbKXQ80ohC"
      },
      "execution_count": null,
      "outputs": []
    },
    {
      "cell_type": "markdown",
      "source": [
        "----------------------------------------------------\n"
      ],
      "metadata": {
        "id": "OK6U7FSuIKBU"
      }
    },
    {
      "cell_type": "markdown",
      "source": [
        "6.Explain the concept of generators in Python and how they are defined.\n",
        "\n",
        "-->A generator is a special type of iterator in Python that yields values one at a time using the yield keyword, instead of returning all at once. It is memory-efficient and useful when working with large data or infinite sequences.\n",
        "\n",
        "**Generators Work:**\n",
        "\n",
        "Uses yield instead of return.\n",
        "\n",
        "Maintains its internal state between calls.\n",
        "\n",
        "Values are produced only when needed (lazy evaluation).\n",
        "\n",
        "**Use Cases:**\n",
        "\n",
        "Reading large files line by line\n",
        "\n",
        "Streaming data\n",
        "\n",
        "Infinite sequences (e.g., Fibonacci)\n",
        "\n",
        "Processing pipelines\n",
        "\n",
        "\n",
        "\n"
      ],
      "metadata": {
        "id": "bJf23v8d1F0t"
      }
    },
    {
      "cell_type": "code",
      "source": [
        "#example of generator defined\n",
        "def count_up_to(n):\n",
        "    count = 1\n",
        "    while count <= n:\n",
        "        yield count\n",
        "        count += 1\n",
        "\n",
        "#this function returns a generator object.\n",
        "\n"
      ],
      "metadata": {
        "id": "yu9MH5ne1rdD"
      },
      "execution_count": null,
      "outputs": []
    },
    {
      "cell_type": "code",
      "source": [
        "gen = count_up_to(3)\n",
        "\n",
        "print(next(gen))  # Output: 1\n",
        "print(next(gen))  # Output: 2\n",
        "print(next(gen))  # Output: 3"
      ],
      "metadata": {
        "colab": {
          "base_uri": "https://localhost:8080/"
        },
        "id": "bRUr_bgv16Ik",
        "outputId": "5e9f5b44-d0da-421f-a85f-cd09f7cd1968"
      },
      "execution_count": null,
      "outputs": [
        {
          "output_type": "stream",
          "name": "stdout",
          "text": [
            "1\n",
            "2\n",
            "3\n"
          ]
        }
      ]
    },
    {
      "cell_type": "markdown",
      "source": [
        "---------------------------------------------\n"
      ],
      "metadata": {
        "id": "FPpVuM5RINGq"
      }
    },
    {
      "cell_type": "markdown",
      "source": [
        "7.What are the advantages of using generators over regular functions?\n",
        "\n",
        "-->Generators offer several powerful advantages, especially when working with large datasets or streaming data.\n",
        "\n",
        "ADVANTGES OF GENERATOR:\n",
        "\n",
        "1.Memory Efficiency (Low Memory Usage)\n",
        "\n",
        "Generators don't store all values in memory. They generate one value at a time, only when needed.\n",
        "\n",
        "2.Lazy Evaluation (On-Demand Computation)\n",
        "\n",
        "Generators pause after each yield and resume when next() is called. They don't do all the work upfront. This is ideal for processing infinite or very large sequences.\n",
        "\n",
        "3.Faster Start-up Time\n",
        "\n",
        "Since they don't compute all results at once, generators start faster than functions that build large data structures.\n",
        "\n",
        "4.Simplifies Code for Iteration\n",
        "\n",
        "Writing complex iterators using __iter__() and __next__() is harder. With yield, the same can be done cleanly and concisely.\n",
        "\n",
        "5.Infinite Sequences Support\n",
        "\n",
        "You can build generators that run forever (like counters or data streams) without crashing your system.\n",
        "\n",
        "6.Pipeline Creation\n",
        "You can chain generators for efficient data processing pipelines (e.g., reading → filtering → transforming data).\n",
        "\n"
      ],
      "metadata": {
        "id": "2jsrdYg42dbI"
      }
    },
    {
      "cell_type": "markdown",
      "source": [
        "\n",
        "-----------------------------\n",
        "    \n"
      ],
      "metadata": {
        "id": "XRUx_FJSICpS"
      }
    },
    {
      "cell_type": "markdown",
      "source": [
        "8.What is a lambda function in Python and when is it typically used?\n",
        "\n",
        "-->Lambda Function in Python -\n",
        "A lambda function in Python is a small anonymous function that is defined using the lambda keyword. It can take any number of arguments but can only have one expression.\n",
        "\n",
        "Syntax:\n",
        "lambda arguments: expression\n",
        "\n",
        "When to Use Lambda Functions:\n",
        "Lambda functions are typically used when you need a simple function for a short time, especially:\n",
        "\n",
        "1.With Built-in Functions like map(), filter(), and sorted()\n",
        "\n",
        "2.Sorting with custom keys\n",
        "\n",
        "3.short Callbacks or Inline Functions\n",
        "Used where defining a full function would be unnecessary.\n"
      ],
      "metadata": {
        "id": "IYa9bGQY-z9B"
      }
    },
    {
      "cell_type": "code",
      "source": [
        "square = lambda x: x * x\n",
        "print(square(5))"
      ],
      "metadata": {
        "colab": {
          "base_uri": "https://localhost:8080/"
        },
        "id": "Rf4C1dC-BHRg",
        "outputId": "26e4ef85-5253-4ab5-e68f-d904c3953d18"
      },
      "execution_count": null,
      "outputs": [
        {
          "output_type": "stream",
          "name": "stdout",
          "text": [
            "25\n"
          ]
        }
      ]
    },
    {
      "cell_type": "markdown",
      "source": [
        "-------------------------------------------\n"
      ],
      "metadata": {
        "id": "_uj2_zXdIQ8B"
      }
    },
    {
      "cell_type": "markdown",
      "source": [
        "9.Explain the purpose and usage of the `map()` function in Python.\n",
        "\n",
        "-->The map() function in Python is used to apply a function to every item in an iterable (like a list, tuple, etc.) and returns a new map object (which is an iterator).\n",
        "\n",
        "Purpose of map():\n",
        "\n",
        "The primary purpose of map() is to efficiently transform or process elements within an iterable without explicitly writing a for loop. It promotes a more concise and often more performant way to apply a consistent operation across a collection of data.\n",
        "\n",
        "To transform items in a collection by applying a function to each element without writing a loop.\n",
        "\n",
        "Syntax :  map(function, iterable)\n",
        "\n",
        "function: A function to apply to each item.\n",
        "\n",
        "iterable: A sequence (like list, tuple, etc.).\n",
        "\n",
        "1.Using lambda with map()\n",
        "\n",
        "2.With Multiple Iterables\n",
        "\n",
        "**When to Use map():**\n",
        "\n",
        "When you need to apply the same function to every element in a sequence.\n",
        "\n",
        "When you want concise and functional code.\n",
        "\n",
        "When working with large datasets (as map is memory-efficient).\n",
        "\n"
      ],
      "metadata": {
        "id": "zwo_0ofoBNQh"
      }
    },
    {
      "cell_type": "code",
      "source": [
        "numbers = [1, 2, 3, 4, 5]\n",
        "\n",
        "# Using map to double each number\n",
        "doubled = map(lambda x: x * 2, numbers)\n",
        "\n",
        "# Convert map object to list and print\n",
        "print(list(doubled))"
      ],
      "metadata": {
        "colab": {
          "base_uri": "https://localhost:8080/"
        },
        "id": "WP0VhinhIYnx",
        "outputId": "ff903665-f89b-4efd-8b7a-6faa7b057878"
      },
      "execution_count": null,
      "outputs": [
        {
          "output_type": "stream",
          "name": "stdout",
          "text": [
            "[2, 4, 6, 8, 10]\n"
          ]
        }
      ]
    },
    {
      "cell_type": "markdown",
      "source": [
        "---------------------------------------------------------\n"
      ],
      "metadata": {
        "id": "ZtrWjobrITvM"
      }
    },
    {
      "cell_type": "markdown",
      "source": [
        "10.What is the difference between `map()`, `reduce()`, and `filter()` functions in Python?\n",
        "\n",
        "\n",
        "\n"
      ],
      "metadata": {
        "id": "vRSfbgmVIzDB"
      }
    },
    {
      "cell_type": "code",
      "source": [
        "#map()\n",
        "#Purpose: Transforms each item in an iterable.\n",
        "# Example: Square each number\n",
        "numbers = [1, 2, 3, 4]\n",
        "result = map(lambda x: x**2, numbers)\n",
        "print(list(result))  # Output: [1, 4, 9, 16]\n",
        "\n",
        "#Takes: function, iterable\n",
        "#Returns: Transformed elements (same length as input)\n",
        "\n"
      ],
      "metadata": {
        "colab": {
          "base_uri": "https://localhost:8080/"
        },
        "id": "68VpQ1PbI1M0",
        "outputId": "b7bc2eb7-dfe9-453d-e934-2b43347ff5a8"
      },
      "execution_count": null,
      "outputs": [
        {
          "output_type": "stream",
          "name": "stdout",
          "text": [
            "[1, 4, 9, 16]\n"
          ]
        }
      ]
    },
    {
      "cell_type": "code",
      "source": [
        "#filter()\n",
        "#Purpose: Filters elements based on a condition (function returns True or False)\n",
        "# Example: Keep even numbers\n",
        "numbers = [1, 2, 3, 4]\n",
        "result = filter(lambda x: x % 2 == 0, numbers)\n",
        "print(list(result))  # Output: [2, 4]\n",
        "\n",
        "#Takes: function (condition), iterable\n",
        "#Returns: Only items that match the condition (length may be shorter)\n",
        "\n"
      ],
      "metadata": {
        "colab": {
          "base_uri": "https://localhost:8080/"
        },
        "id": "CkNZkborJDS5",
        "outputId": "0b54c794-7ada-4f7e-b777-9733da271392"
      },
      "execution_count": null,
      "outputs": [
        {
          "output_type": "stream",
          "name": "stdout",
          "text": [
            "[2, 4]\n"
          ]
        }
      ]
    },
    {
      "cell_type": "code",
      "source": [
        "#reduce()\n",
        "#Purpose: Reduces a sequence to a single value by applying a\n",
        "#function cumulatively.\n",
        "\n",
        "from functools import reduce\n",
        "\n",
        "# Example: Multiply all numbers\n",
        "numbers = [1, 2, 3, 4]\n",
        "result = reduce(lambda x, y: x * y, numbers)\n",
        "print(result)  # Output: 24\n",
        "\n",
        "#Takes: function, iterable\n",
        "\n",
        "#Returns: A single result\n",
        "\n",
        "#Must import from functools"
      ],
      "metadata": {
        "id": "_nOSq3e4Ji0z"
      },
      "execution_count": null,
      "outputs": []
    },
    {
      "cell_type": "markdown",
      "source": [
        "-----------------------------------------------\n"
      ],
      "metadata": {
        "id": "0tIdDBi2IWks"
      }
    },
    {
      "cell_type": "markdown",
      "source": [
        "11.Using pen & Paper write the internal mechanism for sum operation using  reduce function on this given\n",
        "list:[47,11,42,13];"
      ],
      "metadata": {
        "id": "CVqcGE7jJ4qP"
      }
    },
    {
      "cell_type": "markdown",
      "source": [
        "![solution of q.11.jpeg](data:image/jpeg;base64,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)"
      ],
      "metadata": {
        "id": "hP64aZzp_mTH"
      }
    },
    {
      "cell_type": "markdown",
      "source": [
        "-------------------------------------------------------------------\n"
      ],
      "metadata": {
        "id": "disfhtZ3IaMM"
      }
    },
    {
      "cell_type": "markdown",
      "source": [
        "**Practical Questions:**"
      ],
      "metadata": {
        "id": "jcUclKN_KZRX"
      }
    },
    {
      "cell_type": "markdown",
      "source": [
        "1.Write a Python function that takes a list of numbers as input and returns the sum of all even numbers in\n",
        "the list."
      ],
      "metadata": {
        "id": "_B5WCDfAKfOW"
      }
    },
    {
      "cell_type": "code",
      "source": [
        "def sum_even_numbers(numbers):\n",
        "    even_sum = 0\n",
        "    for num in numbers:\n",
        "        if num % 2 == 0:\n",
        "            even_sum += num\n",
        "    return even_sum"
      ],
      "metadata": {
        "id": "2oZOTEy6Krc6"
      },
      "execution_count": null,
      "outputs": []
    },
    {
      "cell_type": "code",
      "source": [
        "my_list = [10, 15, 20, 25, 30]\n",
        "result = sum_even_numbers(my_list)\n",
        "print(\"Sum of even numbers:\", result)"
      ],
      "metadata": {
        "colab": {
          "base_uri": "https://localhost:8080/"
        },
        "id": "JPo0WV_kLUDT",
        "outputId": "144d9b46-0213-44ce-bbff-27a98b176577"
      },
      "execution_count": null,
      "outputs": [
        {
          "output_type": "stream",
          "name": "stdout",
          "text": [
            "Sum of even numbers: 60\n"
          ]
        }
      ]
    },
    {
      "cell_type": "markdown",
      "source": [
        "2.Create a Python function that accepts a string and returns the reverse of that string."
      ],
      "metadata": {
        "id": "NiHz36gvTCp_"
      }
    },
    {
      "cell_type": "code",
      "source": [
        "def reverse_str(text):\n",
        "  return text[::-1]\n",
        "\n"
      ],
      "metadata": {
        "id": "wYS17aXPTZ9D"
      },
      "execution_count": null,
      "outputs": []
    },
    {
      "cell_type": "code",
      "source": [
        "result = reverse_str(\"Hello\")\n",
        "print(\"Reversed string:\", result)"
      ],
      "metadata": {
        "colab": {
          "base_uri": "https://localhost:8080/"
        },
        "id": "PZLDZ_DaT2Z5",
        "outputId": "99f8604d-2db0-4599-ccde-0be1166671a3"
      },
      "execution_count": null,
      "outputs": [
        {
          "output_type": "stream",
          "name": "stdout",
          "text": [
            "Reversed string: olleH\n"
          ]
        }
      ]
    },
    {
      "cell_type": "markdown",
      "source": [
        "3.Implement a Python function that takes a list of integers and returns a new list containing the squares of each number."
      ],
      "metadata": {
        "id": "jySqtOioUPo8"
      }
    },
    {
      "cell_type": "code",
      "source": [
        "def square_numbers(numbers):\n",
        "  even_numbers = []\n",
        "  for i in numbers:\n",
        "    even_numbers.append(i*i)\n",
        "  return even_numbers\n",
        "\n",
        "# Example list\n",
        "my_list = [1, 2, 4, 6]\n",
        "\n",
        "# Call the function\n",
        "result = square_numbers(my_list)\n",
        "\n",
        "# Print the result\n",
        "print(\"Squared numbers:\", result)\n"
      ],
      "metadata": {
        "colab": {
          "base_uri": "https://localhost:8080/"
        },
        "id": "nlAsnmh7WfZR",
        "outputId": "f91af80b-6092-49f9-d956-825906f4a0fc"
      },
      "execution_count": null,
      "outputs": [
        {
          "output_type": "stream",
          "name": "stdout",
          "text": [
            "Squared numbers: [1, 4, 16, 36]\n"
          ]
        }
      ]
    },
    {
      "cell_type": "markdown",
      "source": [
        "4.Write a Python function that checks if a given number is prime or not from 1 to 200."
      ],
      "metadata": {
        "id": "EGSCgVrlXGqy"
      }
    },
    {
      "cell_type": "code",
      "source": [
        "def is_prime(n):\n",
        "    if n < 2:\n",
        "        return False\n",
        "    for i in range(2, int(n**0.5) + 1):\n",
        "        if n % i == 0:\n",
        "            return False\n",
        "    return True"
      ],
      "metadata": {
        "id": "5pl4JiNuXMZt"
      },
      "execution_count": null,
      "outputs": []
    },
    {
      "cell_type": "code",
      "source": [
        "for num in range(1, 201):\n",
        "    if is_prime(num):\n",
        "        print(num, end=' ')"
      ],
      "metadata": {
        "colab": {
          "base_uri": "https://localhost:8080/"
        },
        "id": "UIy-o3LQXGWO",
        "outputId": "b8648c06-1dc3-412b-9855-53a45206984b"
      },
      "execution_count": null,
      "outputs": [
        {
          "output_type": "stream",
          "name": "stdout",
          "text": [
            "2 3 5 7 11 13 17 19 23 29 31 37 41 43 47 53 59 61 67 71 73 79 83 89 97 101 103 107 109 113 127 131 137 139 149 151 157 163 167 173 179 181 191 193 197 199 "
          ]
        }
      ]
    },
    {
      "cell_type": "markdown",
      "source": [
        "5.Create an iterator function in Python that generates the Fibonacci sequence up to a specified number of terms."
      ],
      "metadata": {
        "id": "Kn6XzqE6XyXl"
      }
    },
    {
      "cell_type": "code",
      "source": [
        "def fib (n):\n",
        "  a = 0\n",
        "  b = 1\n",
        "  for i in range(n):\n",
        "    yield a\n",
        "    a, b = b, a + b\n",
        "\n"
      ],
      "metadata": {
        "id": "YVGIzSYYXphB"
      },
      "execution_count": null,
      "outputs": []
    },
    {
      "cell_type": "code",
      "source": [
        "f = fib(3)\n",
        "print(next(f))\n",
        "print(next(f))\n",
        "print(next(f))"
      ],
      "metadata": {
        "id": "kf1xIxtIYsmU",
        "colab": {
          "base_uri": "https://localhost:8080/"
        },
        "outputId": "01ff1c37-0665-468f-8bdf-e30ec95e0b8a"
      },
      "execution_count": null,
      "outputs": [
        {
          "output_type": "stream",
          "name": "stdout",
          "text": [
            "0\n",
            "1\n",
            "1\n"
          ]
        }
      ]
    },
    {
      "cell_type": "markdown",
      "source": [
        "6.Write a generator function in Python that yields the powers of 2 up to a given exponent."
      ],
      "metadata": {
        "id": "2kWZhMeGsVYX"
      }
    },
    {
      "cell_type": "code",
      "source": [
        "def powers_of_two(max_exponent):\n",
        "    for i in range(max_exponent + 1):\n",
        "        yield 2 ** i"
      ],
      "metadata": {
        "id": "-X03wipFuHyh"
      },
      "execution_count": null,
      "outputs": []
    },
    {
      "cell_type": "code",
      "source": [
        "for power in powers_of_two(4):\n",
        "    print(power)"
      ],
      "metadata": {
        "colab": {
          "base_uri": "https://localhost:8080/"
        },
        "id": "z29rpGH0uKBQ",
        "outputId": "fd5dc58c-fbb1-4fcd-a028-7ac51a7c3b40"
      },
      "execution_count": null,
      "outputs": [
        {
          "output_type": "stream",
          "name": "stdout",
          "text": [
            "1\n",
            "2\n",
            "4\n",
            "8\n",
            "16\n"
          ]
        }
      ]
    },
    {
      "cell_type": "markdown",
      "source": [
        " 7.Implement a generator function that reads a file line by line and yields each line as a string."
      ],
      "metadata": {
        "id": "BdAojlXEumG0"
      }
    },
    {
      "cell_type": "code",
      "source": [
        "def read_file_line_by_line(filename):\n",
        "    with open(filename, 'r') as file:\n",
        "        for line in file:\n",
        "            yield line.rstrip('\\n')"
      ],
      "metadata": {
        "id": "JoAr5AaXwbB-"
      },
      "execution_count": null,
      "outputs": []
    },
    {
      "cell_type": "code",
      "source": [
        "for line in read_file_line_by_line('example.txt'):\n",
        "    print(line)"
      ],
      "metadata": {
        "id": "k4HN71XfT6IS"
      },
      "execution_count": null,
      "outputs": []
    },
    {
      "cell_type": "markdown",
      "source": [
        "8.Use a lambda function in Python to sort a list of tuples based on the second element of each tuple."
      ],
      "metadata": {
        "id": "bYVo3Olfw7Nj"
      }
    },
    {
      "cell_type": "code",
      "source": [
        "data = [(1, 4), (3, 1), (5, 2), (2, 3)]\n",
        "\n",
        "# Sort by second element using lambda\n",
        "sorted_data = sorted(data, key=lambda x: x[1])\n",
        "\n",
        "print(sorted_data)\n"
      ],
      "metadata": {
        "colab": {
          "base_uri": "https://localhost:8080/"
        },
        "id": "3QXizOfnxB2z",
        "outputId": "42589ff3-4a53-4b12-a895-85324abd84d5"
      },
      "execution_count": null,
      "outputs": [
        {
          "output_type": "stream",
          "name": "stdout",
          "text": [
            "[(3, 1), (5, 2), (2, 3), (1, 4)]\n"
          ]
        }
      ]
    },
    {
      "cell_type": "markdown",
      "source": [
        "9.Write a Python program that uses 'map()' to convert a list of temperatures from Celsius to Fahrenheit."
      ],
      "metadata": {
        "id": "UccGv4ez0WjF"
      }
    },
    {
      "cell_type": "code",
      "source": [
        "# List of temperatures in Celsius\n",
        "celsius_temps = [0, 20, 37, 100]\n",
        "\n",
        "# Convert to Fahrenheit using map and lambda\n",
        "fahrenheit_temps = list(map(lambda c: (c * 9/5) + 32, celsius_temps))\n",
        "\n",
        "# Print the result\n",
        "print(\"Fahrenheit temperatures:\", fahrenheit_temps)"
      ],
      "metadata": {
        "colab": {
          "base_uri": "https://localhost:8080/"
        },
        "id": "DYVHZvhv0apQ",
        "outputId": "db96ee96-b79d-465b-fdaf-dce7e55c87f9"
      },
      "execution_count": null,
      "outputs": [
        {
          "output_type": "stream",
          "name": "stdout",
          "text": [
            "Fahrenheit temperatures: [32.0, 68.0, 98.6, 212.0]\n"
          ]
        }
      ]
    },
    {
      "cell_type": "markdown",
      "source": [
        "10.Create a Python program that uses `filter()` to remove all the vowels from a given string."
      ],
      "metadata": {
        "id": "7h7dADCk3PGE"
      }
    },
    {
      "cell_type": "code",
      "source": [
        "#Function to check if a character is NOT a vowel\n",
        "def is_not_vowel(char):\n",
        "    return char.lower() not in 'aeiou'\n",
        "\n",
        "# Input string\n",
        "input_str = \"Hello, how are you?\"\n",
        "\n",
        "# Use filter to remove vowels\n",
        "result = ''.join(filter(is_not_vowel, input_str))\n",
        "\n",
        "# Print result\n",
        "print(\"String without vowels:\", result)"
      ],
      "metadata": {
        "colab": {
          "base_uri": "https://localhost:8080/"
        },
        "id": "ZhR9H7yq0IqC",
        "outputId": "3cb619b7-d0c2-4398-ab8f-13d01cb9478b"
      },
      "execution_count": null,
      "outputs": [
        {
          "output_type": "stream",
          "name": "stdout",
          "text": [
            "String without vowels: Hll, hw r y?\n"
          ]
        }
      ]
    },
    {
      "cell_type": "markdown",
      "source": [
        "11.Imagine an accounting routine used in a book shop. It works on a list with sublists, which look like this:\n",
        "\n",
        "\n",
        "\n",
        "\n",
        "\n",
        "\n",
        "\n",
        "Write a Python program, which returns a list with 2-tuples. Each tuple consists of the order number and the\n",
        "product of the price per item and the quantity. The product should be increased by 10,- € if the value of the\n",
        "order is smaller than 100,00 €.\n",
        "\n",
        "Write a Python program using lambda and map."
      ],
      "metadata": {
        "id": "kcFql0wg3_Rn"
      }
    },
    {
      "cell_type": "code",
      "source": [
        "orders = [\n",
        "    [34587, \"Learning Python, Mark Lutz\", 4, 40.95],\n",
        "    [98762, \"Programming Python, Mark Lutz\", 5, 56.80],\n",
        "    [77226, \"Head First Python, Paul Barry\", 3, 32.95],\n",
        "    [88112, \"Einführung in Python3, Bernd Klein\", 3, 24.99]\n",
        "]\n",
        "\n",
        "# Use map and lambda to compute the result\n",
        "result = list(map(lambda order:\n",
        "                  (order[0], order[2] * order[3] if order[2] * order[3] >= 100 else order[2] * order[3] + 10),\n",
        "                  orders))\n",
        "\n",
        "# Output the result\n",
        "print(result)"
      ],
      "metadata": {
        "id": "87BW-lak4TD5"
      },
      "execution_count": null,
      "outputs": []
    }
  ]
}